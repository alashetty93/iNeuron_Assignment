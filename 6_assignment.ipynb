{
 "cells": [
  {
   "cell_type": "markdown",
   "id": "426261b2",
   "metadata": {},
   "source": [
    "### Assignment 6 Solutions"
   ]
  },
  {
   "cell_type": "markdown",
   "id": "822ae177",
   "metadata": {},
   "source": [
    "## 1. Write a Python Program to Display Fibonacci Sequence using Recursion ?"
   ]
  },
  {
   "cell_type": "code",
   "execution_count": 2,
   "id": "a5ffb541",
   "metadata": {},
   "outputs": [
    {
     "name": "stdout",
     "output_type": "stream",
     "text": [
      "Enter the length of Series: 6\n",
      "0, 1, 3, 5, 8, 13, 21, 34, "
     ]
    }
   ],
   "source": [
    "def genFibonacci(n,a,b):\n",
    "    if n == 0:\n",
    "        return 1\n",
    "    else:\n",
    "        result = a+b\n",
    "        print(result, end=', ')\n",
    "        genFibonacci(n-1,b,result)\n",
    "in_num = int(input('Enter the length of Series: '))\n",
    "print('0, 1',end=', ')\n",
    "genFibonacci(in_num,1,2)"
   ]
  },
  {
   "cell_type": "markdown",
   "id": "b9dcf45d",
   "metadata": {},
   "source": [
    "## 2. Write a Python Program to Find Factorial of a Number using Recursion ?"
   ]
  },
  {
   "cell_type": "code",
   "execution_count": 3,
   "id": "a38e1854",
   "metadata": {},
   "outputs": [
    {
     "name": "stdout",
     "output_type": "stream",
     "text": [
      "Enter a number: 11\n",
      "The Factorial of 11 is 39916800\n"
     ]
    }
   ],
   "source": [
    "def factorial(num):\n",
    "    if (num < 1):\n",
    "        return 1\n",
    "    else:\n",
    "        return num*factorial(num-1)\n",
    "num = int(input('Enter a number: '))\n",
    "value = factorial(num)\n",
    "print(f'The Factorial of {num} is {value}')"
   ]
  },
  {
   "cell_type": "markdown",
   "id": "c70b2a15",
   "metadata": {},
   "source": [
    "## 3. Write a Python Program to Calculate your Body Mass Index ?"
   ]
  },
  {
   "cell_type": "code",
   "execution_count": 4,
   "id": "0e0975bd",
   "metadata": {},
   "outputs": [
    {
     "name": "stdout",
     "output_type": "stream",
     "text": [
      "Enter your Weight(kgs): 64\n",
      "Enter your Height(mts): 158\n",
      "Your're BMI is 0.0025636917160711424 and status is Underweight \n"
     ]
    }
   ],
   "source": [
    "def calculateBMI():\n",
    "    in_weight = eval(input('Enter your Weight(kgs): '))\n",
    "    in_height = eval(input('Enter your Height(mts): '))\n",
    "    calc_bmi = in_weight/pow(in_height,2)\n",
    "    if (calc_bmi < 18.5):\n",
    "        status = 'Underweight'\n",
    "    elif (calc_bmi >= 18.5 and calc_bmi < 24.9):\n",
    "        status = 'Healthy'\n",
    "    elif (calc_bmi >= 24.9 and calc_bmi < 30):\n",
    "        status = 'Overweight'\n",
    "    elif (calc_bmi >=30):\n",
    "        status = 'Suffering from Obesity'\n",
    "    print(f'Your\\'re BMI is {calc_bmi} and status is {status} ')\n",
    "calculateBMI()"
   ]
  },
  {
   "cell_type": "markdown",
   "id": "288d0069",
   "metadata": {},
   "source": [
    "## 4. Write a Python Program to Calculate the Natural Logarithm of any Number ?"
   ]
  },
  {
   "cell_type": "code",
   "execution_count": 5,
   "id": "377c934f",
   "metadata": {},
   "outputs": [
    {
     "name": "stdout",
     "output_type": "stream",
     "text": [
      "Enter a Number:56\n",
      "4.02535169073515\n"
     ]
    }
   ],
   "source": [
    "import math\n",
    "def genNatLog():\n",
    "    in_num = eval(input(\"Enter a Number:\"))\n",
    "    print(math.log(in_num))\n",
    "\n",
    "genNatLog()"
   ]
  },
  {
   "cell_type": "markdown",
   "id": "bd64568f",
   "metadata": {},
   "source": [
    "### 5. Write a Python Program for Cube sum of first n Natural Numbers ?"
   ]
  },
  {
   "cell_type": "code",
   "execution_count": 6,
   "id": "677ed2b9",
   "metadata": {},
   "outputs": [
    {
     "name": "stdout",
     "output_type": "stream",
     "text": [
      "Enter the no of Natural Numbers: 1\n",
      "The Cube Sum of First 1 Natural Numbers is 1.0\n"
     ]
    }
   ],
   "source": [
    "def cubeOfNaturalNumbers():\n",
    "    in_num = int(input(\"Enter the no of Natural Numbers: \"))\n",
    "    result = pow(((in_num * (in_num +1))/2),2)\n",
    "    print(f'The Cube Sum of First {in_num} Natural Numbers is {result}')\n",
    "\n",
    "cubeOfNaturalNumbers()"
   ]
  },
  {
   "cell_type": "code",
   "execution_count": null,
   "id": "6e372129",
   "metadata": {},
   "outputs": [],
   "source": []
  }
 ],
 "metadata": {
  "kernelspec": {
   "display_name": "Python 3 (ipykernel)",
   "language": "python",
   "name": "python3"
  },
  "language_info": {
   "codemirror_mode": {
    "name": "ipython",
    "version": 3
   },
   "file_extension": ".py",
   "mimetype": "text/x-python",
   "name": "python",
   "nbconvert_exporter": "python",
   "pygments_lexer": "ipython3",
   "version": "3.9.12"
  }
 },
 "nbformat": 4,
 "nbformat_minor": 5
}
