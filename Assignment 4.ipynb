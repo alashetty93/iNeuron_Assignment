{
 "cells": [
  {
   "cell_type": "markdown",
   "id": "26099dca",
   "metadata": {},
   "source": [
    "## Assignment 4 Solutions"
   ]
  },
  {
   "cell_type": "markdown",
   "id": "2bc8bb90",
   "metadata": {},
   "source": [
    "## 1.What exactly is [ ]?\n",
    "Ans: The empty list represented by [] is a list that contains no items. This is similar to '' which represents an empty string"
   ]
  },
  {
   "cell_type": "code",
   "execution_count": 1,
   "id": "d7b69829",
   "metadata": {},
   "outputs": [
    {
     "name": "stdout",
     "output_type": "stream",
     "text": [
      "Values of a: []\n",
      "Type of a: <class 'list'>\n",
      "Size of a: 0\n"
     ]
    }
   ],
   "source": [
    "# Python program to declare\n",
    "# empty list\n",
    "\n",
    "# list is declared\n",
    "a = []\t\t\n",
    "\n",
    "print(\"Values of a:\", a)\n",
    "print(\"Type of a:\", type(a))\n",
    "print(\"Size of a:\", len(a))"
   ]
  },
  {
   "cell_type": "markdown",
   "id": "7e0a33a5",
   "metadata": {},
   "source": [
    "## 2.In a list of values stored in a variable called spam, how would you assign the value 'hello' as the third value? (Assume [2, 4, 6, 8, 10] are in spam.)\n",
    "Ans: spam[2]='hello' (Note: Lists follows zero based indexing)"
   ]
  },
  {
   "cell_type": "code",
   "execution_count": 3,
   "id": "f800cfe9",
   "metadata": {},
   "outputs": [
    {
     "name": "stdout",
     "output_type": "stream",
     "text": [
      "[2, 4, 6, 8, 10]\n",
      "[2, 4, 'hello', 8, 10]\n"
     ]
    }
   ],
   "source": [
    "# Example\n",
    "spam=[2,4,6,8,10]\n",
    "print(spam)\n",
    "spam[2]='hello' #List uses zero based indexing\n",
    "print(spam)"
   ]
  },
  {
   "cell_type": "markdown",
   "id": "b4e78461",
   "metadata": {},
   "source": [
    "## Let's pretend the spam includes the list ['a','b','c',d'] for the next three queries.\n",
    "##### 3. What is the value of spam[int(int('3'*2)//11)] ?\n",
    "Ans: 'd' ('3' * 2 is the string '33', which is passed to int() before being divided by 11. This eventually evaluates to 3, spam[3] is equal to d.)"
   ]
  },
  {
   "cell_type": "code",
   "execution_count": 4,
   "id": "5bf3b0e2",
   "metadata": {},
   "outputs": [
    {
     "name": "stdout",
     "output_type": "stream",
     "text": [
      "spam[int(int('3'*2)//11)] -> d\n"
     ]
    }
   ],
   "source": [
    "spam=['a','b','c','d']\n",
    "print(\"spam[int(int('3'*2)//11)] ->\",spam[int(int('3'*2)//11)])"
   ]
  },
  {
   "cell_type": "markdown",
   "id": "2e0a0c48",
   "metadata": {},
   "source": [
    "#### 4. What is the value of spam[-1]?\n",
    "Ans: 'd' (Lists support Negative indexing, Hence spam[-1] returs 'd'). -1 index returns last item of the list"
   ]
  },
  {
   "cell_type": "code",
   "execution_count": 5,
   "id": "a610f2b4",
   "metadata": {},
   "outputs": [
    {
     "name": "stdout",
     "output_type": "stream",
     "text": [
      "spam[-1] ->  d\n"
     ]
    }
   ],
   "source": [
    "spam=['a','b','c','d']\n",
    "print('spam[-1] -> ',spam[-1])"
   ]
  },
  {
   "cell_type": "markdown",
   "id": "18c78e2b",
   "metadata": {},
   "source": [
    "### 5. What is the value of spam[:2]?\n",
    "Ans: spam[:2] returns all elements in the list spam from 0 to 2 excluding 2"
   ]
  },
  {
   "cell_type": "code",
   "execution_count": 6,
   "id": "6045c546",
   "metadata": {},
   "outputs": [
    {
     "name": "stdout",
     "output_type": "stream",
     "text": [
      "['a', 'b', 'c', 'd']\n",
      "['a', 'b']\n"
     ]
    }
   ],
   "source": [
    "print(spam)\n",
    "print(spam[:2])"
   ]
  },
  {
   "cell_type": "markdown",
   "id": "be1939af",
   "metadata": {},
   "source": [
    "### Let's pretend bacon has the list [3.14,'cat',11,'cat',True] for the next three question\n",
    "### 6. What is the value of bacon.index('cat')?\n",
    "Ans: The value of bacon.index('cat') is 1 (Index method returns the index of first occuerence of 'cat')"
   ]
  },
  {
   "cell_type": "code",
   "execution_count": 7,
   "id": "5a883c1a",
   "metadata": {},
   "outputs": [
    {
     "name": "stdout",
     "output_type": "stream",
     "text": [
      "bacon.index('cat') -> 1\n"
     ]
    }
   ],
   "source": [
    "bacon=[3.14,'cat',11,'cat',True]\n",
    "print(\"bacon.index('cat') ->\",bacon.index('cat'))"
   ]
  },
  {
   "cell_type": "markdown",
   "id": "f313b8a1",
   "metadata": {},
   "source": [
    "### 7. How does bacon.append(99) change the look of the list value in bacon?\n",
    "Ans: The append method adds new elements to the end of the list"
   ]
  },
  {
   "cell_type": "code",
   "execution_count": 8,
   "id": "4727e62c",
   "metadata": {},
   "outputs": [
    {
     "name": "stdout",
     "output_type": "stream",
     "text": [
      "[3.14, 'cat', 11, 'cat', True]\n",
      "[3.14, 'cat', 11, 'cat', True, 99]\n"
     ]
    }
   ],
   "source": [
    "# Example\n",
    "print(bacon)\n",
    "bacon.append(99) # appends 99 to the end of the list\n",
    "print(bacon)"
   ]
  },
  {
   "cell_type": "markdown",
   "id": "2fb2b44f",
   "metadata": {},
   "source": [
    "### 8. How does bacon.remove('cat') change the look of the list in bacon?\n",
    "Ans: The remove method removes the first occurence of the element in the list"
   ]
  },
  {
   "cell_type": "code",
   "execution_count": 9,
   "id": "e0fe4664",
   "metadata": {},
   "outputs": [
    {
     "name": "stdout",
     "output_type": "stream",
     "text": [
      "[3.14, 'cat', 11, 'cat', True, 99]\n",
      "[3.14, 11, 'cat', True, 99]\n"
     ]
    }
   ],
   "source": [
    "print(bacon)\n",
    "bacon.remove('cat')\n",
    "print(bacon)"
   ]
  },
  {
   "cell_type": "markdown",
   "id": "a0683d39",
   "metadata": {},
   "source": [
    "## 9.what are the list concatenation and list replication operations?\n",
    "Ans: The operator for list concatenation is +, while the operator for replication is *. (This is the same as for strings.)"
   ]
  },
  {
   "cell_type": "code",
   "execution_count": 11,
   "id": "2351e238",
   "metadata": {},
   "outputs": [
    {
     "name": "stdout",
     "output_type": "stream",
     "text": [
      "['ML', 'DL', 'AI', 'CV', 'NLP', 'RNN', 'CNN', 'SVN']\n",
      "['RNN', 'CNN', 'SVN', 'RNN', 'CNN', 'SVN']\n"
     ]
    }
   ],
   "source": [
    "# Example\n",
    "list_1 = ['ML','DL','AI','CV','NLP']\n",
    "list_2 = ['RNN','CNN','SVN']\n",
    "print(list_1 + list_2) # List Concatenation\n",
    "print(list_2*2) # List Replication"
   ]
  },
  {
   "cell_type": "markdown",
   "id": "c491a5d3",
   "metadata": {},
   "source": [
    "### 10.what is the difference between the list method append() and insert()?\n",
    "Ans: While append() will add values only to the end of a list, insert() can add them anywhere in the list."
   ]
  },
  {
   "cell_type": "code",
   "execution_count": 12,
   "id": "99c7422e",
   "metadata": {},
   "outputs": [
    {
     "name": "stdout",
     "output_type": "stream",
     "text": [
      "[1, 2, 3, 4, 5, 100]\n",
      "[1, 2, 'iNeuron', 3, 4, 5, 100]\n"
     ]
    }
   ],
   "source": [
    "#Examples\n",
    "list = [1,2,3,4,5]\n",
    "list.append(100)\n",
    "print(list)\n",
    "list.insert(2,'iNeuron')\n",
    "print(list)"
   ]
  },
  {
   "cell_type": "markdown",
   "id": "759ef642",
   "metadata": {},
   "source": [
    "#### 11. What are the two methods for removing items from a list?\n",
    "Ans: The del statement and the remove() method are two ways to remove values from a list"
   ]
  },
  {
   "cell_type": "code",
   "execution_count": 13,
   "id": "6a1c8ae8",
   "metadata": {},
   "outputs": [
    {
     "data": {
      "text/plain": [
       "[1, 2, 2, 3, 4, 5]"
      ]
     },
     "execution_count": 13,
     "metadata": {},
     "output_type": "execute_result"
    }
   ],
   "source": [
    "# assign list\n",
    "numbers = [1, 2, 3, 2, 3, 4, 5]\n",
    "  \n",
    "# use del\n",
    "del numbers[2]\n",
    "\n",
    "numbers"
   ]
  },
  {
   "cell_type": "code",
   "execution_count": 14,
   "id": "b6034ee9",
   "metadata": {},
   "outputs": [
    {
     "data": {
      "text/plain": [
       "[1, 2, 2, 3, 4, 5]"
      ]
     },
     "execution_count": 14,
     "metadata": {},
     "output_type": "execute_result"
    }
   ],
   "source": [
    "# assign list\n",
    "numbers1 = [1, 2, 3, 2, 3, 4, 5]\n",
    "  \n",
    "# use remove()\n",
    "numbers1.remove(3)\n",
    "numbers1"
   ]
  },
  {
   "cell_type": "markdown",
   "id": "ebb59747",
   "metadata": {},
   "source": [
    "#### 12. Describe how list values and string values are identical.\n",
    "Ans: Below are some reasons how list values and string values are identical:\n",
    "\n",
    "Both lists and strings can be passed to len() function\n",
    "Have indexes and slices, be used in for loops,\n",
    "Can be concatenated or replicated\n",
    "Can be used with the in and not in operators.\n",
    "### 13. What's the difference between tuples and lists?\n",
    "Ans: Lists are Mutable, Indexable and Slicable. they can have values added, removed, or changed. Tuples are Immutable but Indexable and Slicable. the tuple values cannot be changed at all. Also, tuples are represented using parentheses, (), while lists use the square brackets, []."
   ]
  },
  {
   "cell_type": "code",
   "execution_count": 15,
   "id": "6f38b97e",
   "metadata": {},
   "outputs": [
    {
     "name": "stdout",
     "output_type": "stream",
     "text": [
      "[1, 2, 3, 4]\n",
      "(1, 2, 3, 4)\n"
     ]
    }
   ],
   "source": [
    "list_num = [1,2,3,4]\n",
    "tup_num = (1,2,3,4)\n",
    "\n",
    "print(list_num)\n",
    "print(tup_num)"
   ]
  },
  {
   "cell_type": "markdown",
   "id": "725897fc",
   "metadata": {},
   "source": [
    "### 14. How do you type a tuple value that only contains the integer 42?\n",
    "Ans:(42,) (The trailing comma is mandatory. otherwise its considered as a int by python Interpreter)"
   ]
  },
  {
   "cell_type": "code",
   "execution_count": 16,
   "id": "0986deee",
   "metadata": {},
   "outputs": [
    {
     "name": "stdout",
     "output_type": "stream",
     "text": [
      "<class 'int'>\n",
      "<class 'tuple'>\n"
     ]
    }
   ],
   "source": [
    "tup1=(42)\n",
    "tup2=(42,)\n",
    "print(type(tup1))\n",
    "print(type(tup2))"
   ]
  },
  {
   "cell_type": "markdown",
   "id": "dd520905",
   "metadata": {},
   "source": [
    "### 15. How do you get a list value's tuple form? How do you get a tuple value's list form?\n",
    "Ans: The tuple() and list() functions, respectively are used to convert a list to tuple and vice versa\n",
    "\n",
    "### 16. Variables that \"contain\" list values are not necessarily lists themselves. Instead, what do they contain?\n",
    "Ans: They contain references to list values.\n",
    "\n",
    "### 17. How do you distinguish between copy.copy() and copy.deepcopy()?\n",
    "Ans: The copy.copy() function will do a shallow copy of a list, while the copy.deepcopy() function will do a deep copy of a list. That is, only copy.deepcopy() will duplicate any lists inside the list."
   ]
  },
  {
   "cell_type": "code",
   "execution_count": 17,
   "id": "fb7d999b",
   "metadata": {},
   "outputs": [],
   "source": [
    "# importing copy module\n",
    "import copy\n",
    "\n",
    "# initializing list 1\n",
    "li1 = [1, 2, [3,5], 4]\n",
    "\n",
    "\n",
    "# using copy for shallow copy\n",
    "li2 = copy.copy(li1)\n",
    "\n",
    "# using deepcopy for deepcopy\n",
    "li3 = copy.deepcopy(li1)"
   ]
  },
  {
   "cell_type": "code",
   "execution_count": null,
   "id": "5da9ae6f",
   "metadata": {},
   "outputs": [],
   "source": []
  }
 ],
 "metadata": {
  "kernelspec": {
   "display_name": "Python 3 (ipykernel)",
   "language": "python",
   "name": "python3"
  },
  "language_info": {
   "codemirror_mode": {
    "name": "ipython",
    "version": 3
   },
   "file_extension": ".py",
   "mimetype": "text/x-python",
   "name": "python",
   "nbconvert_exporter": "python",
   "pygments_lexer": "ipython3",
   "version": "3.9.12"
  }
 },
 "nbformat": 4,
 "nbformat_minor": 5
}
