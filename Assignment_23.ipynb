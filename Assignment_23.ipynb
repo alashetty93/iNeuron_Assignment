{
 "cells": [
  {
   "cell_type": "markdown",
   "id": "bae235a4",
   "metadata": {},
   "source": [
    "## Assignment 23 Solutions"
   ]
  },
  {
   "cell_type": "markdown",
   "id": "b0d9382e",
   "metadata": {},
   "source": [
    "### 1. What is the result of the code, and why?\n",
    "def func(a, b=6, c=8):\n",
    "print(a, b, c)\n",
    "func(1, 2)\n",
    "\n",
    "Ans: The result of the above code is 1 2 8. It is because the function uses the default value of c i.e 8 which is provided at the time of declaration. We can see this below:"
   ]
  },
  {
   "cell_type": "code",
   "execution_count": 1,
   "id": "24840fee",
   "metadata": {},
   "outputs": [
    {
     "name": "stdout",
     "output_type": "stream",
     "text": [
      "1 2 8\n"
     ]
    }
   ],
   "source": [
    "def func(a,b=6,c=8):\n",
    "    print(a,b,c)\n",
    "func(1,2)"
   ]
  },
  {
   "cell_type": "markdown",
   "id": "64d1d600",
   "metadata": {},
   "source": [
    "#### 2. What is the result of this code, and why?\n",
    "def func(a, b, c=5):\n",
    "print(a, b, c)\n",
    "func(1, c=3, b=2)\n",
    "\n",
    "Ans: The result of the above code is 1 2 3. It is because the function will use default values only when a value for a argument is not provided and if the argument name is mentioned while doing a function call, the order of arguments is also ignored by the python interpreter"
   ]
  },
  {
   "cell_type": "code",
   "execution_count": 2,
   "id": "650a0524",
   "metadata": {},
   "outputs": [
    {
     "name": "stdout",
     "output_type": "stream",
     "text": [
      "1 2 3\n"
     ]
    }
   ],
   "source": [
    "def func(a,b,c=5):\n",
    "    print(a,b,c)\n",
    "func(1,c=3,b=2)"
   ]
  },
  {
   "cell_type": "markdown",
   "id": "1359034c",
   "metadata": {},
   "source": [
    "#### 3. How about this code: what is its result, and why?\n",
    "def func(a, *pargs):\n",
    "print(a, pargs)\n",
    "func(1, 2, 3)\n",
    "\n",
    "Ans: The result of the code is 1 (2,3). *pargs stands for variable length arguments. This format is used when we are not sure about the number of arguments to be passed to a function. All the values under this argument will be stored in a tuple."
   ]
  },
  {
   "cell_type": "code",
   "execution_count": 3,
   "id": "1a19c413",
   "metadata": {},
   "outputs": [
    {
     "name": "stdout",
     "output_type": "stream",
     "text": [
      "1 (2, 3)\n"
     ]
    }
   ],
   "source": [
    "def func(a, *pargs):\n",
    "    print(a,pargs)\n",
    "func(1,2,3)"
   ]
  },
  {
   "cell_type": "markdown",
   "id": "d9ded50e",
   "metadata": {},
   "source": [
    "#### 4. What does this code print, and why?\n",
    " def func(a, **kargs):\n",
    "print(a, kargs)\n",
    "func(a=1, c=3, b=2)\n",
    "\n",
    "Ans: The result of the above code is 1 {'c': 3, 'b': 2}. **args stands for variable length keyword arguments. This format is used when we want pass key value pairs as input to a function. All these key value pairs will be stored in a dictionary"
   ]
  },
  {
   "cell_type": "code",
   "execution_count": 4,
   "id": "4fd7cb4f",
   "metadata": {},
   "outputs": [
    {
     "name": "stdout",
     "output_type": "stream",
     "text": [
      "1 {'c': 3, 'b': 2}\n"
     ]
    }
   ],
   "source": [
    "def func(a,**kargs):\n",
    "    print(a,kargs)\n",
    "func(a=1,c=3,b=2)"
   ]
  },
  {
   "cell_type": "markdown",
   "id": "800d29dc",
   "metadata": {},
   "source": [
    "### 5. What gets printed by this, and explain?\n",
    "def func(a, b, c=8, d=5): print(a, b, c, d)\n",
    "func(1, *(5, 6))\n",
    "\n",
    "Ans: The output of the above is 1 5 6 5. The reason for this function not throwing an error is because, this function expects 4 arguments. The value for a is provided explicitly whereas for arguments b and c, the function will expand *(5,6) and consider the value of b as 5 and value of c as 6. Since the default value of d is provided in function declaration, d value will be 5. However it is recommended to use the feature of positional arguments at the end."
   ]
  },
  {
   "cell_type": "code",
   "execution_count": 5,
   "id": "8eb48e34",
   "metadata": {},
   "outputs": [
    {
     "name": "stdout",
     "output_type": "stream",
     "text": [
      "1 5 6 5\n"
     ]
    }
   ],
   "source": [
    "def func(a,b,c=8,d=5):\n",
    "    print(a,b,c,d)\n",
    "func(1,*(5,6))"
   ]
  },
  {
   "cell_type": "markdown",
   "id": "9fa277df",
   "metadata": {},
   "source": [
    "### 6. what is the result of this, and explain?\n",
    "def func(a, b, c): a = 2; b[0] = 'x'; c['a'] = 'y'\n",
    "l=1; m=[1]; n={'a':0}\n",
    " func(l, m, n)\n",
    " l, m, n\n",
    "\n",
    "Ans: The output of above code is 1, ['x'], {'a': 'y'}.\n",
    "\n",
    "Even though Python gives importance to indentation, it provides a facility to declare an entire function in one single line where statements in a function body are sepereated by ;\n",
    "When l,m,n are provided as inputs to the function, it modifies the values of l,m,n and sets the value of l=2 ,m=['x'] and n={'a':'y'}"
   ]
  },
  {
   "cell_type": "code",
   "execution_count": 6,
   "id": "fd64f192",
   "metadata": {},
   "outputs": [
    {
     "data": {
      "text/plain": [
       "(1, ['x'], {'a': 'y'})"
      ]
     },
     "execution_count": 6,
     "metadata": {},
     "output_type": "execute_result"
    }
   ],
   "source": [
    "def func(a, b, c): a = 2; b[0] = 'x'; c['a'] = 'y'\n",
    "l=1; m=[1]; n={'a':0}\n",
    "func(l, m, n)\n",
    "l,m,n"
   ]
  },
  {
   "cell_type": "code",
   "execution_count": null,
   "id": "ac34acf2",
   "metadata": {},
   "outputs": [],
   "source": []
  }
 ],
 "metadata": {
  "kernelspec": {
   "display_name": "Python 3 (ipykernel)",
   "language": "python",
   "name": "python3"
  },
  "language_info": {
   "codemirror_mode": {
    "name": "ipython",
    "version": 3
   },
   "file_extension": ".py",
   "mimetype": "text/x-python",
   "name": "python",
   "nbconvert_exporter": "python",
   "pygments_lexer": "ipython3",
   "version": "3.9.12"
  }
 },
 "nbformat": 4,
 "nbformat_minor": 5
}
